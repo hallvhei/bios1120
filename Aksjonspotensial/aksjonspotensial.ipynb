{
 "cells": [
  {
   "cell_type": "markdown",
   "metadata": {},
   "source": [
    "<!-- dom:TITLE: Beregningsoppgave 2: Aksjonspotensial -->\n",
    "# Beregningsoppgave 2: Aksjonspotensial\n",
    "<!-- AUTHOR: Solveig Næss -->\n",
    "\n",
    "<!-- DATE: today -->\n",
    "\n",
    "<!-- TOC: on -->"
   ]
  },
  {
   "cell_type": "markdown",
   "metadata": {},
   "source": [
    "\n"
   ]
  },
  {
   "cell_type": "markdown",
   "metadata": {},
   "source": [
    "<div class=\"alert alert-block alert-info\">\n",
    "Denne beregningsoppgaven skal leveres i grupper på to.\n",
    "Start med å lage en kopi av denne fila: Trykk på File; Make a copy.\n",
    "\n",
    "Endre deretter navnet på kopien til: Etternavn_Fornavn_beregning2.ipynb.\n",
    "\n",
    "Denne fila skal leveres på CANVAS under Beregning 2: Aksjonspotensial.\n",
    "Leveringsfristen er fredag 01.02, klokka 23.59.\n",
    "\n",
    "For å få innleveringen godkjent må dere svare på oppgave 1, 2."
   ]
  },
  {
   "cell_type": "markdown",
   "metadata": {},
   "source": [
    "\n"
   ]
  },
  {
   "cell_type": "markdown",
   "metadata": {},
   "source": [
    "<!-- --- begin exercise --- -->\n",
    "\n",
    "## Oppgave 1: Aksjonspotensial\n",
    "\n",
    "På laben har vi målt tiden et aksjonspotensial bruker på å vandre langs et\n",
    "myelinert axon fra akkiles til et målepunkt. Hos Mikkel var avstanden 2,1 m,\n",
    "men vi glemte å måle avstanden hos Hallvard: ? cm.\n",
    "\n",
    "<!-- dom:FIGURE: [experiment_sketch.png, width=600 frac=0.9] Sketch of the resulting graph of the experiment. -->\n",
    "<!-- begin figure -->\n",
    "\n",
    "<p>Sketch of the resulting graph of the experiment.</p>\n",
    "<img src=\"experiment_sketch.png\" width=600>\n",
    "\n",
    "<!-- end figure -->\n",
    "\n",
    "\n",
    "\n",
    "**a)**\n",
    "Skriv opp en formel som regner ut hvor langt aksjonspotensialet beveger seg\n",
    "avstand $s$ i løpet av tiden $t$ med en fart $v$."
   ]
  },
  {
   "cell_type": "markdown",
   "metadata": {},
   "source": [
    "$$\n",
    "svar:\n",
    "$$"
   ]
  },
  {
   "cell_type": "markdown",
   "metadata": {},
   "source": [
    "\n",
    "**b)**\n",
    "Lag en python-funksjon som returnerer hvor langt $s$ et aksjonspotensial kan\n",
    "forflytte seg med farten $v$ langs et myelinert akson i løpet av tiden $t$."
   ]
  },
  {
   "cell_type": "code",
   "execution_count": null,
   "metadata": {
    "collapsed": true
   },
   "outputs": [],
   "source": []
  },
  {
   "cell_type": "markdown",
   "metadata": {},
   "source": [
    "\n",
    "**c)**\n",
    "Dataene er lagret i Excel-filene `Mikkel.xlsx` og `Hallvard.xlsx` som vi leser med pandas,\n",
    "bruk `pd.read_excel` for å laste opp dataene i variablene `mikkel` og `hallvard`."
   ]
  },
  {
   "cell_type": "code",
   "execution_count": null,
   "metadata": {
    "collapsed": true
   },
   "outputs": [],
   "source": []
  },
  {
   "cell_type": "markdown",
   "metadata": {},
   "source": [
    "\n",
    "**d)**\n",
    "Beregn gjennomsnitlig ledningshastighet langs et myelinert akson med Mikkel sine data."
   ]
  },
  {
   "cell_type": "code",
   "execution_count": null,
   "metadata": {
    "collapsed": true
   },
   "outputs": [],
   "source": []
  },
  {
   "cell_type": "markdown",
   "metadata": {},
   "source": [
    "\n",
    "**e)**\n",
    "Beregn avstanden til målepunktet hos Hallvard, med å bruke hastigheten beregnet fra Mikkel sine data"
   ]
  },
  {
   "cell_type": "code",
   "execution_count": null,
   "metadata": {
    "collapsed": true
   },
   "outputs": [],
   "source": []
  },
  {
   "cell_type": "markdown",
   "metadata": {},
   "source": [
    "\n",
    "\n",
    "**f)**\n",
    "Bruk de målte ledningshastighetene og lag et plott som viser strekningen\n",
    "aksjonspotensialet kan forflytte seg som funksjon av tid."
   ]
  },
  {
   "cell_type": "code",
   "execution_count": null,
   "metadata": {
    "collapsed": true
   },
   "outputs": [],
   "source": []
  },
  {
   "cell_type": "markdown",
   "metadata": {},
   "source": [
    "\n",
    "**g)**\n",
    "Et umyelinert akson har en ledningshastighet på $\\approx 1$ m/s.\n",
    "Lag en figur som viser strekningen aksjonspotensialet forflytter seg langs et\n",
    "umyelinert akson som funksjon av tiden."
   ]
  },
  {
   "cell_type": "markdown",
   "metadata": {},
   "source": [
    "\n",
    "**h)**\n",
    "Hvor mye lenger kan et aksjonspotensial forflytte seg på $0.1$s i et myelinert akson enn i et umyelinert akson?"
   ]
  },
  {
   "cell_type": "markdown",
   "metadata": {},
   "source": [
    "        Svar:\n"
   ]
  },
  {
   "cell_type": "markdown",
   "metadata": {},
   "source": [
    "\n",
    "<!-- --- end exercise --- -->\n",
    "\n",
    "\n",
    "# Måleusikkerhet\n",
    "\n",
    "## Enkeltmålinger\n",
    "Når man måler noe mange ganger på samme måte og alle feilkildene er små og\n",
    "tilfeldige vil målingene være normal distribuert rundt den sanne verdien\n",
    "$x_{true}$.\n",
    "Den sanne verdien har sitt beste estimat gitt av gjennomsnittet $\\bar{x}]$.\n",
    "\n",
    "Når man gjør en enkelt måling $x_i$ er det 68 % sikkert at den vil falle innenfor\n",
    "$x_{true} \\pm \\sigma_x$ hvor $\\sigma_x$ er standardavviket gitt av"
   ]
  },
  {
   "cell_type": "markdown",
   "metadata": {},
   "source": [
    "$$\n",
    "\\sigma_x = \\sqrt{\\frac{1}{N-1} \\sum(x_i - \\bar{x})^2}\n",
    "$$"
   ]
  },
  {
   "cell_type": "markdown",
   "metadata": {},
   "source": [
    "Med andre ord, når du gjør en måling, kan du være 68 % sikker på at målingen\n",
    "er $\\sigma_x$ langt unna det riktige svaret.\n",
    "\n",
    "## Example: Standardavvik\n",
    "Si at vi ønsker å måle fjærstivheten $k$ til en fjær (i N/m), og vi har følgende målinger"
   ]
  },
  {
   "cell_type": "markdown",
   "metadata": {},
   "source": [
    "$$\n",
    "86, 85, 84, 89, 85, 89, 87, 85, 82, 85\n",
    "$$"
   ]
  },
  {
   "cell_type": "markdown",
   "metadata": {},
   "source": [
    "Gjennomsnittet er da $\\bar{k} = 85.7$ og med formelen ovenfor kan vi regne ut\n",
    "standardavviket $\\sigma_k \\approx 2 N/m $.\n",
    "\n",
    "Deretter, måler vi en annen fjær, men bare en gang og får verdien $k = 71 N/m$.\n",
    "Da kan vi med 68 % sikkerhet si at $k$ til den andre fjæra er $k = 71 \\pm 2$,\n",
    "med andre ord $69 \\leq k \\geq 73$.\n",
    "\n",
    "## Flere målinger\n",
    "Hva er da feilen til gjennomsnittet? Altså hvis man måler noe mange ganger og\n",
    "ønsker å vite hvor god måling man har gjort. Man vil jo anta at hvis man gjør\n",
    "mange målinger, at gjennomsnittet skal bli mer og mer nøyaktig.\n",
    "\n",
    "Til dette bruker man standard error $\\sigma_{\\bar{x}}$ som er definert som"
   ]
  },
  {
   "cell_type": "markdown",
   "metadata": {},
   "source": [
    "$$\n",
    "\\sigma_{\\bar{x}} = \\sigma_x / \\sqrt{N}\n",
    "$$"
   ]
  },
  {
   "cell_type": "markdown",
   "metadata": {},
   "source": [
    "Siden man deler på antall målinger vil standard error bli mindre med fler målinger.\n",
    "\n",
    "## Example: Standarderror\n",
    "Målingene av den første fjæra har som vi vet gjennomsnittet $\\bar{k} = 85.7$.\n",
    "Usikkerheten til dette gjennomsnittet representerer vi med standarderror\n",
    "$\\sigma_x / \\sqrt{N} = 2.16 / \\sqrt{10} = 0.7 N/m$\n",
    "\n",
    "\n",
    "\n",
    "<!-- --- begin exercise --- -->\n",
    "\n",
    "## Oppgave 2: Feilkilder\n",
    "\n",
    "\n",
    "**a)**\n",
    "Lag et histogram av `tid_peak` fra Mikkel sine data, forklar hva et histogram er og\n",
    "hva barene i plottet betyr, er disse normalfordelt?"
   ]
  },
  {
   "cell_type": "code",
   "execution_count": null,
   "metadata": {
    "collapsed": true
   },
   "outputs": [],
   "source": []
  },
  {
   "cell_type": "markdown",
   "metadata": {},
   "source": [
    "\n",
    "**b)**\n",
    "Beregn usikkerheten til ledningshastigheten til Mikkel."
   ]
  },
  {
   "cell_type": "code",
   "execution_count": null,
   "metadata": {
    "collapsed": true
   },
   "outputs": [],
   "source": []
  },
  {
   "cell_type": "markdown",
   "metadata": {},
   "source": [
    "\n",
    "**c)**\n",
    "Beregn usikkerheten til måleavstanden til Hallvard. Vi antar at feilkildene\n",
    "hos Mikkel og Hallvard er de samme. Har usikkerheten noe å si for den avstanden\n",
    "vi har beregnet hos Hallvard?"
   ]
  },
  {
   "cell_type": "code",
   "execution_count": null,
   "metadata": {
    "collapsed": true
   },
   "outputs": [],
   "source": []
  },
  {
   "cell_type": "markdown",
   "metadata": {},
   "source": [
    "    Svar:"
   ]
  },
  {
   "cell_type": "markdown",
   "metadata": {},
   "source": [
    "\n",
    "<!-- --- end exercise --- -->"
   ]
  }
 ],
 "metadata": {
  "kernelspec": {
   "display_name": "Python 3",
   "language": "python",
   "name": "python3"
  },
  "language_info": {
   "codemirror_mode": {
    "name": "ipython",
    "version": 3
   },
   "file_extension": ".py",
   "mimetype": "text/x-python",
   "name": "python",
   "nbconvert_exporter": "python",
   "pygments_lexer": "ipython3",
   "version": "3.6.3"
  }
 },
 "nbformat": 4,
 "nbformat_minor": 2
}
