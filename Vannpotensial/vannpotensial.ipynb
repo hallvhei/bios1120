{
 "cells": [
  {
   "cell_type": "markdown",
   "metadata": {},
   "source": [
    "<!-- dom:TITLE: Beregningsoppgave 5: Vannpotensial -->\n",
    "# Beregningsoppgave 5: Vannpotensial\n",
    "<!-- AUTHOR: Melinka Alonso Butenko, Mikkel Lepperød -->\n",
    "\n",
    "<!-- DATE: today -->\n",
    "\n",
    "<!-- TOC: on -->"
   ]
  },
  {
   "cell_type": "markdown",
   "metadata": {},
   "source": [
    "\n"
   ]
  },
  {
   "cell_type": "markdown",
   "metadata": {},
   "source": [
    "<div class=\"alert alert-block alert-info\">\n",
    "Denne beregningsoppgaven skal leveres i grupper på to.\n",
    "\n",
    "**MERK:** Jobb på samme fil, men lever hver for dere i CANVAS. Pass på at filen\n",
    "heter det samme så vi slipper å rette samme oppgave to ganger.\n",
    "\n",
    "Start med å lage en kopi av denne fila: Trykk på File; Make a copy.\n",
    "\n",
    "Endre deretter navnet på kopien til: EtternavnFornavn_EtternavnFornavn_beregning5.ipynb. \n",
    "Dersom dere heter Harry Potter og Isaac Newton, skal filnavnet altså være: PotterHarry_NewtonIsaac_beregning5.ipynb\n",
    "\n",
    "Denne fila skal leveres på CANVAS under beregning5: Vannpotensial.\n",
    "Leveringsfristen er fredag 08.05, klokka 23.59.\n",
    "\n",
    "For å få innleveringen godkjent må dere svare på alle oppgavene."
   ]
  },
  {
   "cell_type": "markdown",
   "metadata": {},
   "source": [
    "\n"
   ]
  },
  {
   "cell_type": "markdown",
   "metadata": {},
   "source": [
    "**Etter at dere har gjort denne oppgaven skal dere kunne forklare**\n",
    "* Forskjellen på interpolering og lineær regresjon\n",
    "\n",
    "* Hvordan man beregner vannpotensial i en åpen beholder\n",
    "\n",
    "* Hvordan man beregner trykkpotensial fra kapilærkrefter og hvordan dette skiller seg fra hydrostatisk trykkpotensial\n",
    "\n",
    "\n",
    "\n",
    "\n",
    "\n",
    "<!-- --- begin exercise --- -->\n",
    "\n",
    "## Exercise 1: Water potential\n",
    "<div id=\"ex:diff\"></div>\n",
    "\n",
    "The physical property that predicts the direction in which water will flow is\n",
    "called water potential, a quality that includes the effects of solute\n",
    "concentration and physical pressure.\n",
    "Free water moves from regions of higher water potential to regions of lower\n",
    "water potential if there is no barrier to its flow. Osmosis is the movement of\n",
    "water across cell membranes due to differences in solute concentration on either\n",
    "side of a membrane. The likelihood of water movement can be calculated by\n",
    "determining the water potential on either side of the membrane. For example,\n",
    "if a plant cell is immersed in a solution that has higher water potential,\n",
    "water will move into the cell, causing it to expand. Solute concentration and\n",
    "physical pressure are the major determinants of water potential.\n",
    "The formulas to calculate water potential are as follows:"
   ]
  },
  {
   "cell_type": "markdown",
   "metadata": {},
   "source": [
    "$$\n",
    "\\begin{align*}\n",
    "&\\Psi = \\Psi_s + \\Psi_p\\\\\n",
    "&\\Psi_s = -iCRT\n",
    "\\end{align*}\n",
    "$$"
   ]
  },
  {
   "cell_type": "markdown",
   "metadata": {},
   "source": [
    "Here, the total potential $\\Psi$ is determined by the sum of the solute\n",
    "potential $\\Psi_s$ and a pressure potential $\\Psi_p$.\n",
    "The solute potential $\\Psi_s$ is further determined by a negative product of\n",
    "the ionization constant $i$, the molecular consentration $C$, the pressure\n",
    "constant $R$ and the temperature $T$ given in Kelvin ($^\\circ C + 273$).\n",
    "\n",
    "You perform the following experiment: You take a zucchini squash and peel it\n",
    "and divide it into eleven identical cubes that each weigh $100g$.\n",
    "You then place each of them into different sucrose solutions for 24 hours in an\n",
    "OPEN container and at a constant temperature of $21^\\circ C$.\n",
    "You then remove the cubes from the solution, dry them on paper towels,\n",
    "and then weigh them. You get the following results:\n",
    "\n",
    "<table border=\"1\">\n",
    "<thead>\n",
    "<tr><th align=\"center\">CUBE</th> <th align=\"center\">Weight (g)</th> <th align=\"center\">Sucrose concentration (M)</th> </tr>\n",
    "</thead>\n",
    "<tbody>\n",
    "<tr><td align=\"center\">   1       </td> <td align=\"center\">   120           </td> <td align=\"center\">   0                            </td> </tr>\n",
    "<tr><td align=\"center\">   2       </td> <td align=\"center\">   110           </td> <td align=\"center\">   0.2                          </td> </tr>\n",
    "<tr><td align=\"center\">   3       </td> <td align=\"center\">   94            </td> <td align=\"center\">   0.4                          </td> </tr>\n",
    "<tr><td align=\"center\">   4       </td> <td align=\"center\">   84            </td> <td align=\"center\">   0.6                          </td> </tr>\n",
    "<tr><td align=\"center\">   5       </td> <td align=\"center\">   74            </td> <td align=\"center\">   0.8                          </td> </tr>\n",
    "<tr><td align=\"center\">   6       </td> <td align=\"center\">   70            </td> <td align=\"center\">   1                            </td> </tr>\n",
    "<tr><td align=\"center\">   7       </td> <td align=\"center\">   63            </td> <td align=\"center\">   1.2                          </td> </tr>\n",
    "<tr><td align=\"center\">   8       </td> <td align=\"center\">   62            </td> <td align=\"center\">   1.5                          </td> </tr>\n",
    "<tr><td align=\"center\">   9       </td> <td align=\"center\">   60            </td> <td align=\"center\">   2                            </td> </tr>\n",
    "<tr><td align=\"center\">   10      </td> <td align=\"center\">   60            </td> <td align=\"center\">   2.5                          </td> </tr>\n",
    "<tr><td align=\"center\">   11      </td> <td align=\"center\">   60            </td> <td align=\"center\">   3                            </td> </tr>\n",
    "</tbody>\n",
    "</table>"
   ]
  },
  {
   "cell_type": "markdown",
   "metadata": {},
   "source": [
    "        \n"
   ]
  },
  {
   "cell_type": "markdown",
   "metadata": {},
   "source": [
    "**NOTE**: this table is available in `sucrose_weight.csv`\n",
    "\n",
    "**Interpolation.**\n",
    "\n",
    "Let $x$ and $y$ be arrays of values given by some function $f$: $y = f(x)$, for example\n",
    "$f$ can be the function that calculates the weight of zucchini squash ($y$) given a\n",
    "sucrose concentration $x$. It is not feasible to measure all possible values\n",
    "of $x$ (that would simply be to much work), but nevertheless, values of $y$ at\n",
    "points of $x$ that are not measured can be desireable to acquire. One way to\n",
    "approximate such values is to interpolate. Imagine you are interested in\n",
    "the weight of zucchini squash at $1.1M$ sucrose concentration. This value is\n",
    "not measured and thus not contained in the array $x$. With pen and paper,\n",
    "we can easily draw a coordinate system and mark each point in $x$ and $y$,\n",
    "draw a line between $x = 1$ and $x = 1.2$.\n",
    "Then, on this line, mark the point at $x = 1.1$ and see which value of $y$ it\n",
    "corresponds to.\n",
    "That is called linear interpolation.\n",
    "However, we want to use Python to do this.\n",
    "\n",
    "\n",
    "\n",
    "The interpolated point $(x, y)$ on the line between two points $(x_0, y_0)$ and $(x_1, y_1)$ is\n",
    "given by"
   ]
  },
  {
   "cell_type": "markdown",
   "metadata": {},
   "source": [
    "$$\n",
    "\\frac{y - y_0}{x - x_0} = \\frac{y_1 - y_0}{x_1 - x_0}\n",
    "$$"
   ]
  },
  {
   "cell_type": "markdown",
   "metadata": {},
   "source": [
    "**a)**\n",
    "Write a program that takes two arrays `x` and `y`, each containing the values\n",
    "`x = [2.3, 2.4]` and `y = [71, 75]` and calculates by linear interpolation the\n",
    "value of $y$ at $x = 2.33$."
   ]
  },
  {
   "cell_type": "code",
   "execution_count": 1,
   "metadata": {
    "collapsed": false
   },
   "outputs": [],
   "source": [
    "# Answer here"
   ]
  },
  {
   "cell_type": "markdown",
   "metadata": {},
   "source": [
    "\n",
    "**b)**\n",
    "Does the function $f$ have to be linear in order to do linear interpolation?"
   ]
  },
  {
   "cell_type": "markdown",
   "metadata": {},
   "source": [
    "        Answer here:\n"
   ]
  },
  {
   "cell_type": "markdown",
   "metadata": {},
   "source": [
    "\n",
    "**Linear regression.**\n",
    "\n",
    "Again, $x$ and $y$ are arrays of values used to approximate some function\n",
    "$f$: $y = f(x)$. However, now we assume that the function $f$ is linear, and\n",
    "thus want to approximate it with the model $y = a + bx$ where $a$ is the\n",
    "intersection of the line $x=0$ and $b$ is the slope of the line.\n",
    "With pen and paper this is easy, we simply draw all the points and then a\n",
    "line that looks to be close enough to all the points.\n",
    "However, how do we know that the line we draw is a good line, or even, the best line?\n",
    "To calculate the best line, the most common way is to find the minimum sum of squares of the residuals\n",
    "(see video below for an explanation).\n",
    "\n",
    "\n",
    "Run the below code in order to view the video\n",
    "<!-- dom:MOVIE: [https://www.youtube.com/watch?v=yMgFHbjbAW8, width=420 height=315] -->\n",
    "<!-- begin movie -->"
   ]
  },
  {
   "cell_type": "code",
   "execution_count": 3,
   "metadata": {
    "collapsed": false
   },
   "outputs": [],
   "source": [
    "from IPython.display import HTML\n",
    "_s = \"\"\"\n",
    "<iframe width=\"420\" height=\"315\" src=\"https://www.youtube.com/embed/yMgFHbjbAW8\" frameborder=\"0\" allowfullscreen></iframe>\n",
    "\"\"\"\n",
    "HTML(_s)"
   ]
  },
  {
   "cell_type": "markdown",
   "metadata": {},
   "source": [
    "<!-- end movie -->\n",
    "\n",
    "\n",
    "The formulae for the best line to fit the data points is given by"
   ]
  },
  {
   "cell_type": "markdown",
   "metadata": {},
   "source": [
    "$$\n",
    "\\begin{align*}\n",
    "&b = \\frac{\\bar{xy} - \\bar{x}\\bar{y}}{\\bar{x^2} - (\\bar{x})^2}\\\\\n",
    "&a = \\bar{y} - b\\bar{x}\n",
    "\\end{align*}\n",
    "$$"
   ]
  },
  {
   "cell_type": "markdown",
   "metadata": {},
   "source": [
    "Here, $\\bar{xy}$ is the mean of the product of $x$ and $y$ (that is $\\frac{1}{N}\\sum xy$ where N is the number of measurements in $x$ or $y$),\n",
    "$\\bar{x}$ is the mean of $x$, $\\bar{x^2}$ is the mean of the square $x^2$ (that is $\\frac{1}{N}\\sum xx$) and $(\\bar{x})^2$ is the square of the mean of $x$.\n",
    "\n",
    "If you want to understand how these formulaes are derived it is highly recommended to wach the\n",
    "[Kahn academy series on least squares regression](https://www.khanacademy.org/math/statistics-probability/describing-relationships-quantitative-data/more-on-regression/v/squared-error-of-regression-line)\n",
    "\n",
    "**c)**\n",
    "Write a program that uses the above formulaes to calculate the regression line\n",
    "$y = a + bx$ given two arrays `x` and `y`."
   ]
  },
  {
   "cell_type": "code",
   "execution_count": 4,
   "metadata": {
    "collapsed": false
   },
   "outputs": [],
   "source": [
    "# Answer here"
   ]
  },
  {
   "cell_type": "markdown",
   "metadata": {},
   "source": [
    "\n",
    "Assume that the zucchini keeps a temperature of $21^\\circ C$.\n",
    "The ionization constant of sucrose is $1$, $R$ is $0.0831$ L Bar/moles K\n",
    "\n",
    "**d)**\n",
    "Scatter plot (use `scatter`) the **percent change in mass** of the cubes against the sucrose concentration.\n",
    "Label the axes."
   ]
  },
  {
   "cell_type": "code",
   "execution_count": 6,
   "metadata": {
    "collapsed": false
   },
   "outputs": [],
   "source": [
    "# Answer here"
   ]
  },
  {
   "cell_type": "markdown",
   "metadata": {},
   "source": [
    "\n",
    "**Hint:** what is the pressure potential in an OPEN container?\n",
    "\n",
    "**e)**\n",
    "Calculate the water potential of the zucchini by means of linear interpolation.\n",
    "Plot the interpolated data and mark the data points (use `marker='*'` in the plot function).\n",
    "Label the axes."
   ]
  },
  {
   "cell_type": "code",
   "execution_count": 8,
   "metadata": {
    "collapsed": false
   },
   "outputs": [],
   "source": [
    "# Answer here"
   ]
  },
  {
   "cell_type": "markdown",
   "metadata": {},
   "source": [
    "\n",
    "**f)**\n",
    "Calculate the water potential of the zucchini by means of linear regression.\n",
    "Plot the regression line on top of the scattered data, does the line look correct?\n",
    "If not, make the necessary changes."
   ]
  },
  {
   "cell_type": "code",
   "execution_count": 10,
   "metadata": {
    "collapsed": false
   },
   "outputs": [],
   "source": [
    "# Answer here"
   ]
  },
  {
   "cell_type": "markdown",
   "metadata": {},
   "source": [
    "\n",
    "**g)**\n",
    "What is the difference between the water potential $\\Psi$ calculated by means of interpolation and regression.\n",
    "Which is the more correct method? Explain why you preffer the one method over the other."
   ]
  },
  {
   "cell_type": "markdown",
   "metadata": {},
   "source": [
    "        Answer here:\n"
   ]
  },
  {
   "cell_type": "markdown",
   "metadata": {},
   "source": [
    "\n",
    "**h)**\n",
    "What is the physical unit of the water potential $\\Psi$"
   ]
  },
  {
   "cell_type": "markdown",
   "metadata": {},
   "source": [
    "        Answer here:\n"
   ]
  },
  {
   "cell_type": "markdown",
   "metadata": {},
   "source": [
    "\n",
    "<!-- --- end exercise --- -->\n",
    "\n",
    "\n",
    "\n",
    "\n",
    "<!-- --- begin exercise --- -->\n",
    "\n",
    "## Exercise 2: Tree physics\n",
    "\n",
    "One of the fundamental problems trees have to solve is how to transport water up to the leaves.\n",
    "The ability to solve this problem poses a constraint on the maximum height of trees.\n",
    "In plants, most of the water transport occurs in water conducting cells of the xylem, the tracheids and vessel elements.\n",
    "These cells are tubular, elongated cells.\n",
    "\n",
    "\n",
    "**a)**\n",
    "Let us assume that the only pressure holding a column of water in a tree is atmospheric pressure (0.1013 MPa).\n",
    "Furthermore, assume that water transport occurs in a single continuous vessel element.\n",
    "If this was the case and you had a tree growing close to the Oslo fjord,\n",
    "what would the maximum height of the column of water in this tree be?\n",
    "Note that $Pa = N/m^2$ and $N = kg m/s^2$"
   ]
  },
  {
   "cell_type": "markdown",
   "metadata": {},
   "source": [
    "        Answer here:\n"
   ]
  },
  {
   "cell_type": "markdown",
   "metadata": {},
   "source": [
    "\n",
    "The pressure potential from capillary forces (ahesion and cohesion) are given by"
   ]
  },
  {
   "cell_type": "markdown",
   "metadata": {},
   "source": [
    "$$\n",
    "\\begin{align*}\n",
    "\\Delta p = - \\frac{-2\\gamma\\cos\\alpha}{r}.\n",
    "\\end{align*}\n",
    "$$"
   ]
  },
  {
   "cell_type": "markdown",
   "metadata": {},
   "source": [
    "Here, $r$ is the radius of the tube and $\\gamma$ is the surface tension which\n",
    "for water is $\\gamma_{water} = 0.0728 N/m$.\n",
    "The connection between adhesion and cohesion is given by the Young equation"
   ]
  },
  {
   "cell_type": "markdown",
   "metadata": {},
   "source": [
    "$$\n",
    "\\begin{align*}\n",
    "\\text{adhesion} = \\frac{1 + \\cos\\alpha}{2} \\text{cohesion},\n",
    "\\end{align*}\n",
    "$$"
   ]
  },
  {
   "cell_type": "markdown",
   "metadata": {},
   "source": [
    "From the Young equation we see that if the contact angle between the liquid and\n",
    "the surface is $\\alpha = 0$ we get $\\cos\\alpha = 1$ and $\\text{adhesion} = \\text{cohesion}$.\n",
    "\n",
    "\n",
    "**b)**\n",
    "We assume that adhesion is equal to cohesion.\n",
    "Calculate the radius of transport vessels that would allow a\n",
    "sequoia tree to reach heights of 80 m by means of capillary forces?\n",
    "How does this radius compare with the radius of typical transport vessels in real trees?"
   ]
  },
  {
   "cell_type": "markdown",
   "metadata": {},
   "source": [
    "        Answer here:\n"
   ]
  },
  {
   "cell_type": "markdown",
   "metadata": {},
   "source": [
    "\n",
    "<!-- --- end exercise --- -->"
   ]
  }
 ],
 "metadata": {},
 "nbformat": 4,
 "nbformat_minor": 2
}
