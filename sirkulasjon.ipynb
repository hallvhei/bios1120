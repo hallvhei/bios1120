{
 "cells": [
  {
   "cell_type": "markdown",
   "metadata": {},
   "source": [
    "<!-- dom:TITLE: Beregningsoppgave 3: Sirkulasjon -->\n",
    "# Beregningsoppgave 3: Sirkulasjon\n",
    "<!-- AUTHOR: Solveig Næss, Mikkel Lepperød -->\n",
    "\n",
    "<!-- DATE: today -->\n",
    "\n",
    "<!-- TOC: on -->"
   ]
  },
  {
   "cell_type": "markdown",
   "metadata": {},
   "source": [
    "\n"
   ]
  },
  {
   "cell_type": "markdown",
   "metadata": {},
   "source": [
    "<div class=\"alert alert-block alert-info\">\n",
    "Denne beregningsoppgaven skal leveres i grupper på to.\n",
    "\n",
    "**MERK:** Jobb på samme fil, men lever hver for dere i CANVAS. Pass på at filen\n",
    "heter det samme så vi slipper å rette samme oppgave to ganger.\n",
    "\n",
    "Start med å lage en kopi av denne fila: Trykk på File; Make a copy.\n",
    "\n",
    "Endre deretter navnet på kopien til: EtternavnFornavn_EtternavnFornavn_beregning3.ipynb. \n",
    "Dersom dere heter Harry Potter og Isaac Newton, skal filnavnet altså være: PotterHarry_NewtonIsaac_beregning3.ipynb\n",
    "\n",
    "Denne fila skal leveres på CANVAS under Beregning3: Sirkulasjon.\n",
    "Leveringsfristen er fredag 29.03, klokka 23.59.\n",
    "\n",
    "For å få innleveringen godkjent må dere svare på alle oppgavene."
   ]
  },
  {
   "cell_type": "markdown",
   "metadata": {},
   "source": [
    "\n"
   ]
  },
  {
   "cell_type": "markdown",
   "metadata": {},
   "source": [
    "**Etter at dere har gjort denne oppgaven skal dere kunne forklare**\n",
    "* sammenhengen mellom blodstrøm, blodtrykksendring og motstand i en blodåre\n",
    "\n",
    "* hvordan viskositet, lengde og radius påvirker blodstrøm og blodtrykksendring i en blodåre\n",
    "\n",
    "\n",
    "\n",
    "\n",
    "\n",
    "<!-- --- begin exercise --- -->\n",
    "\n",
    "## Exercise 1: Blodstrøm, blodtrykksendring og motstand\n",
    "<div id=\"ex:flow\"></div>\n",
    "\n",
    "I kapittel 43 kan dere lese om hvordan blodstrøm i en blodåre er avhengig av\n",
    "blodtrykksendring og motstand i åren. Dette kan beskrives av\n",
    "Pouiseuille-likningen:"
   ]
  },
  {
   "cell_type": "markdown",
   "metadata": {},
   "source": [
    "<!-- Equation labels as ordinary links -->\n",
    "<div id=\"eq:flow\"></div>\n",
    "\n",
    "$$\n",
    "\\begin{equation} \\label{eq:flow} \\tag{1}\n",
    "q = \\frac{\\Delta p}{R},\n",
    "\\end{equation}\n",
    "$$"
   ]
  },
  {
   "cell_type": "markdown",
   "metadata": {},
   "source": [
    "* $\\Delta p$ er blodtrykksendringen i åren og måles i pascal ($\\mathrm{Pa}$) eller millimeter kvikksølv ($\\mathrm{mmHg}$).\n",
    "\n",
    "* $R$ er motstanden i blodåren og måles i $\\mathrm{Pa \\cdot s/m^3}$ eller $\\mathrm{mmHg \\cdot min/l}$.\n",
    "\n",
    "**a)**\n",
    "$q$ er blodets volumstrøm (blodstrøm eller flow).\n",
    "Hva er den fysiske enheten til $q$?\n",
    "\n",
    "\n",
    "\n",
    "**b)**\n",
    "Bruk formelen over og diskuter to og to:\n",
    "(Skriv svaret under ved å dobbeltklikke på \"Svar:\".)\n",
    "* Hva vil skje med blodstrømmen dersom blodtrykksendringen øker?"
   ]
  },
  {
   "cell_type": "markdown",
   "metadata": {},
   "source": [
    "        Svar:\n"
   ]
  },
  {
   "cell_type": "markdown",
   "metadata": {},
   "source": [
    "* Hva vil skje med blodstrømmen dersom motstanden i blodåren øker?"
   ]
  },
  {
   "cell_type": "markdown",
   "metadata": {},
   "source": [
    "        Svar:\n"
   ]
  },
  {
   "cell_type": "markdown",
   "metadata": {},
   "source": [
    "**c)**\n",
    "Lag en python funksjon `flow` som tar inn blodtrykksendring `delta_p` og motstand `R`\n",
    "som argumenter og returnerer blodets volumstrøm $q$."
   ]
  },
  {
   "cell_type": "code",
   "execution_count": 1,
   "metadata": {
    "collapsed": false
   },
   "outputs": [],
   "source": [
    "from pylab import *"
   ]
  },
  {
   "cell_type": "markdown",
   "metadata": {},
   "source": [
    "\n",
    "**d)**\n",
    "Lag et plot med blodtrykksendring $\\Delta p$ på x aksen og\n",
    "og blodets volumstrøm $q$ på y aksen for forskjellige verdier av motstand $R$.\n",
    "Plottet skal ha en `legend` som viser de forskjellige verdiene av $R$.\n",
    "`delta_p` skal gå fra 80 til 140 med steg 10 (mmHg),\n",
    "`R` skal gå fra 20 til 100 med steg 20 (mmHg min/l).\n",
    "Plottet skal også ha riktig enhet for blodtrykksendring på y aksen."
   ]
  },
  {
   "cell_type": "code",
   "execution_count": 3,
   "metadata": {
    "collapsed": false
   },
   "outputs": [],
   "source": [
    "# kode her"
   ]
  },
  {
   "cell_type": "markdown",
   "metadata": {},
   "source": [
    "\n",
    "**e)**\n",
    "Hvordan endres blodstrømmen når blodtrykksendringen i blodåren øker? Bruk grafen."
   ]
  },
  {
   "cell_type": "markdown",
   "metadata": {},
   "source": [
    "        Svar:\n"
   ]
  },
  {
   "cell_type": "markdown",
   "metadata": {},
   "source": [
    "\n",
    "**f)**\n",
    "Hvordan endres blodstrømmen dersom motstanden i blodåren øker? Bruk grafen"
   ]
  },
  {
   "cell_type": "markdown",
   "metadata": {},
   "source": [
    "        Svar:\n"
   ]
  },
  {
   "cell_type": "markdown",
   "metadata": {},
   "source": [
    "\n",
    "\n",
    "Stemte dette overens med det dere kom fram til i Oppgave 1a?\n",
    "\n",
    "<!-- --- end exercise --- -->\n",
    "\n",
    "\n",
    "\n",
    "\n",
    "<!-- --- begin exercise --- -->\n",
    "\n",
    "## Exercise 2: Hva påvirker blodårens motstand?\n",
    "\n",
    "Under har vi en formel som beskriver hvordan motstanden mot blodstrøm i åren\n",
    "avhenger av ulike parametere."
   ]
  },
  {
   "cell_type": "markdown",
   "metadata": {},
   "source": [
    "<!-- Equation labels as ordinary links -->\n",
    "<div id=\"eq:R\"></div>\n",
    "\n",
    "$$\n",
    "\\begin{equation} \\label{eq:R} \\tag{2}\n",
    "R = \\frac{8 \\eta l}{\\pi r^4},\n",
    "\\end{equation}\n",
    "$$"
   ]
  },
  {
   "cell_type": "markdown",
   "metadata": {},
   "source": [
    "der $\\eta$ (gresk: eta) er blodets viskositet, $l$ er blodårens lengde og $r$ er blodårens radius.\n",
    "\n",
    "\n",
    "**a)**\n",
    "Lag en python funksjon som regner ut $R$ gitt lengde $l$ og viskositet $\\eta$."
   ]
  },
  {
   "cell_type": "code",
   "execution_count": 5,
   "metadata": {
    "collapsed": false
   },
   "outputs": [],
   "source": [
    "# svar her"
   ]
  },
  {
   "cell_type": "markdown",
   "metadata": {},
   "source": [
    "\n",
    "**b)**\n",
    "Hva vil gi størst endring i blodårens motstand $R$?\n",
    "* dobling av viskositeten\n",
    "\n",
    "* dobling av lengden\n",
    "\n",
    "* halvering av radien"
   ]
  },
  {
   "cell_type": "markdown",
   "metadata": {},
   "source": [
    "        Svar:\n"
   ]
  },
  {
   "cell_type": "markdown",
   "metadata": {},
   "source": [
    "\n",
    "**c)**\n",
    "Vi ønsker å bruke følgende enheter:\n",
    "\n",
    "$[\\eta] = \\mathrm{m Pa ~ s}$\n",
    "\n",
    "$[l] = \\mathrm{mm}$\n",
    "\n",
    "$[r] = \\mathrm{mm}$\n",
    "\n",
    "$[R] = \\mathrm{mmHg ~ min/l}$\n",
    "\n",
    "\n",
    "Men vi får et problem; vi må gjøre om $mPa$ til $mmHg$.\n",
    "Søk \"mPa to mmHg\" på google for å finne ut hvor mange $mmHg$ tilsvarer 1 $mPa$.\n",
    "Skriv dermed ned en formel som regner ut $R$ med ovennevnte enhet. I tillegg vil\n",
    "vi ha minutt (min) istedet for sekund (s) og liter (l) eller (dm^3).\n",
    "\n"
   ]
  },
  {
   "cell_type": "markdown",
   "metadata": {},
   "source": [
    "\n",
    "**d)**\n",
    "Skriv en ny python funksjon som returnerer $R$ med de gitte enhetene over\n",
    "\n"
   ]
  },
  {
   "cell_type": "markdown",
   "metadata": {},
   "source": [
    "\n",
    "**e)**\n",
    "For å visualisere hvordan motstand $R$ endrer seg med $\\eta, l$ og $r$ vil vi\n",
    "lage 3 plot. I hvert plot skal bare en variabel endre seg, dvs, vi setter de\n",
    "andre variablene konstant.\n",
    "\n",
    "Plot 1: sett $\\eta = l = 1$ og la $r$ endre seg fra 0.1 til 0.2 med steg 0.001.\n",
    "\n",
    "Plot 2: sett $\\eta = r = 1$ og la $l$ endre seg fra 0.1 til 0.2 med steg 0.001.\n",
    "\n",
    "Plot 3: sett $r = l = 1$ og la $\\eta$ endre seg fra 0.1 til 0.2 med steg 0.001."
   ]
  },
  {
   "cell_type": "code",
   "execution_count": 8,
   "metadata": {
    "collapsed": false
   },
   "outputs": [],
   "source": [
    "# plot her"
   ]
  },
  {
   "cell_type": "markdown",
   "metadata": {},
   "source": [
    "Stemte hypotesen deres i oppgave a? Undersøk grafene."
   ]
  },
  {
   "cell_type": "markdown",
   "metadata": {},
   "source": [
    "        Svar:\n"
   ]
  },
  {
   "cell_type": "markdown",
   "metadata": {},
   "source": [
    "\n",
    "**f)**\n",
    "Vil det være størst motstand mot blodstrøm i aorta eller en tynn arteriole?"
   ]
  },
  {
   "cell_type": "markdown",
   "metadata": {},
   "source": [
    "        Svar:\n"
   ]
  },
  {
   "cell_type": "markdown",
   "metadata": {},
   "source": [
    "\n",
    "\n",
    "**g)**\n",
    "I kroppen er to av variablene $\\eta$, $l$ og $r$ relativt konstante.\n",
    "Én av variablene reguleres i kroppen for å øke blodstrømmen, hvilken variabel er\n",
    " dette?"
   ]
  },
  {
   "cell_type": "markdown",
   "metadata": {},
   "source": [
    "        Svar:\n"
   ]
  },
  {
   "cell_type": "markdown",
   "metadata": {},
   "source": [
    "\n",
    "**h)**\n",
    "I denne [videoen](https://www.youtube.com/watch?v=4WvnjCkLbvY), kan dere se hvordan\n",
    "giften til en Russels hoggorm vil påvirke blodstrømmen til et uheldig bytte.\n",
    "\n",
    "\n",
    "<!-- --- end exercise --- -->\n",
    "\n",
    "\n",
    "\n",
    "\n",
    "<!-- --- begin exercise --- -->\n",
    "\n",
    "## Exercise 3: Sant eller usant?\n",
    "\n",
    "Bruk likningene og pythonprogrammene ovenfor til å avgjøre om følgende påstander\n",
    "er sanne eller usanne.\n",
    "\n",
    "\n",
    "**a)**\n",
    "En blodåre har konstant viskositet, radius og lengde.\n",
    "Hvis blodstrømmen minker, vil blodtrykksendringen i blodåren øke."
   ]
  },
  {
   "cell_type": "markdown",
   "metadata": {},
   "source": [
    "        Svar:\n"
   ]
  },
  {
   "cell_type": "markdown",
   "metadata": {},
   "source": [
    "\n",
    "\n",
    "**b)**\n",
    "Hvis viskositeten til blodet minker vil blodtrykket minke når blodstrøm,\n",
    "radius og lengde i blodåren er konstant."
   ]
  },
  {
   "cell_type": "markdown",
   "metadata": {},
   "source": [
    "        Svar:\n"
   ]
  },
  {
   "cell_type": "markdown",
   "metadata": {},
   "source": [
    "\n",
    "\n",
    "**c)**\n",
    "Hvis radien i en blodåre dobles, blodtrykksendringen halveres, viskositeten dobles,\n",
    "og blodårens lengde er konstant vil blodstrømmen firedobles."
   ]
  },
  {
   "cell_type": "markdown",
   "metadata": {},
   "source": [
    "        Svar:\n"
   ]
  },
  {
   "cell_type": "markdown",
   "metadata": {},
   "source": [
    "\n",
    "\n",
    "<!-- --- end exercise --- -->\n",
    "\n",
    "\n",
    "\n",
    "\n",
    "<!-- --- begin exercise --- -->\n",
    "\n",
    "## Exercise 4: Sett kunnskapen sammen\n",
    "\n",
    "I denne oppgaven skal dere bruke likningene og oppgavene over til å lage en\n",
    "pythonfunksjon som tar blodstrøm, viskositet, radius og lengde som argumenter,\n",
    "og regner ut blodtrykksendringen.\n",
    "\n",
    "\n",
    "**a)**\n",
    "Lag en pythonfunksjon som tar blodtrykksendring, viskositet, radius og\n",
    "lengde som argumenter, og regner ut blodstrømmen."
   ]
  },
  {
   "cell_type": "code",
   "execution_count": 10,
   "metadata": {
    "collapsed": false
   },
   "outputs": [],
   "source": [
    "# skriv funksjonen din her:"
   ]
  },
  {
   "cell_type": "markdown",
   "metadata": {},
   "source": [
    "\n",
    "**b)**\n",
    "Bruk funksjonen du lagde i forrige oppgave til å plotte blodstrømmen som\n",
    "funksjon av radius for en arteriole. Sett $\\Delta p = 0.015 Pa$,\n",
    "$\\eta = 0.0025 \\mathrm{Pa s}$, $l = 1 \\mathrm{mm}$ og la $r$ gå fra $0.1$ til\n",
    "$0.4 \\mathrm{mm}$.\n",
    "Husk å skrive enheter på aksene."
   ]
  },
  {
   "cell_type": "code",
   "execution_count": 12,
   "metadata": {
    "collapsed": false
   },
   "outputs": [],
   "source": [
    "# plott blodstrøm på y-aksen, radius på x-aksen"
   ]
  },
  {
   "cell_type": "markdown",
   "metadata": {},
   "source": [
    "\n",
    "<!-- --- end exercise --- -->"
   ]
  }
 ],
 "metadata": {},
 "nbformat": 4,
 "nbformat_minor": 2
}