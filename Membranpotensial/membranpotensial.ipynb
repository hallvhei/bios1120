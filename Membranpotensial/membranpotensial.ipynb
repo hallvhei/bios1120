{
 "cells": [
  {
   "cell_type": "markdown",
   "metadata": {},
   "source": [
    "<!-- dom:TITLE: Beregningsoppgave 1: Membranpotensial -->\n",
    "# Beregningsoppgave 1: Membranpotensial\n",
    "<!-- AUTHOR: Solveig Næss -->\n",
    "\n",
    "<!-- DATE: today -->\n",
    "\n",
    "<!-- TOC: on -->"
   ]
  },
  {
   "cell_type": "markdown",
   "metadata": {},
   "source": [
    "\n"
   ]
  },
  {
   "cell_type": "markdown",
   "metadata": {},
   "source": [
    "<div class=\"alert alert-block alert-info\">\n",
    "Denne beregningsoppgaven skal leveres i grupper på to.\n",
    "Start med å lage en kopi av denne fila: Trykk på File; Make a copy.\n",
    "\n",
    "Endre deretter navnet på kopien til: Etternavn_Fornavn_beregning1.ipynb.\n",
    "\n",
    "Denne fila skal leveres på CANVAS under Beregning 1: Membranpotensial.\n",
    "Leveringsfristen er fredag 01.02, klokka 23.59.\n",
    "\n",
    "For å få innleveringen godkjent må dere svare på oppgave 1, 2 og 3"
   ]
  },
  {
   "cell_type": "markdown",
   "metadata": {},
   "source": [
    "\n"
   ]
  },
  {
   "cell_type": "markdown",
   "metadata": {},
   "source": [
    "<!-- --- begin exercise --- -->\n",
    "\n",
    "## Oppgave 1: Membranpotensial\n",
    "<div id=\"ex:v_mem\"></div>\n",
    "\n",
    "\n",
    "**a)**\n",
    "Dobbeltklikk på teksten under, og fyll inn riktig ord på riktig sted:\n",
    "*ampere*, *spenning*, *konsentrasjoner*,  *membranpotensial*,  *volt*, *strøm*,"
   ]
  },
  {
   "cell_type": "markdown",
   "metadata": {},
   "source": [
    "\n"
   ]
  },
  {
   "cell_type": "markdown",
   "metadata": {},
   "source": [
    "Ulike $\\_\\_\\_\\_$ av ioner inni og utenfor cella skaper en elektrisk spenning\n",
    "over cellemembranen. Denne spenningen kaller vi $\\_\\_\\_\\_$. Elektrisk potensial\n",
    "betyr det samme som elektrisk $\\_\\_\\_\\_$. Ordet potensial brukes for å\n",
    "understreke at en oppladet membran har lagret potensiell energi.\n",
    "Elektrisk spenning måles i $\\_\\_\\_\\_$.\n",
    "\n",
    "\n",
    "\n",
    "\n",
    "\n",
    "<!-- --- end exercise --- -->\n",
    "\n",
    "\n",
    "\n",
    "\n",
    "<!-- --- begin exercise --- -->\n",
    "\n",
    "## Oppgave 2: Likevektspotensial\n",
    "\n",
    "Likevektspotensialet for kalium er den elektriske spenningen som ville oppstått\n",
    "over membranen til en nervecelle som bare er permeabel for kalium.\n",
    "\n",
    "Vi kaller det likevektspotensial, fordi dette er spenningen som oppstår når\n",
    "diffusjonen av kalium inn i cella vil være like stor som diffusjonen av kalium\n",
    "ut av cella. Her er det ingen aktiv transport av ioner gjennom cellemebranen,\n",
    "men kun passiv transport gjennom lekkasjekanaler.\n",
    "\n",
    "**Ekstracellulære og intracellulære ionekonsentrasjoner:**\n",
    "<table border=\"1\">\n",
    "<thead>\n",
    "<tr><th align=\"center\">      Ion      </th> <th align=\"center\">Ekstracellulær (mM)</th> <th align=\"center\">Intracellulær (mM)</th> </tr>\n",
    "</thead>\n",
    "<tbody>\n",
    "<tr><td align=\"center\">   $\\mathrm{Na^+}$    </td> <td align=\"center\">   145                    </td> <td align=\"center\">   15                    </td> </tr>\n",
    "<tr><td align=\"center\">   $\\mathrm{K^+}$     </td> <td align=\"center\">   4                      </td> <td align=\"center\">   140                   </td> </tr>\n",
    "<tr><td align=\"center\">   $\\mathrm{Cl^-}$    </td> <td align=\"center\">   120                    </td> <td align=\"center\">   7                     </td> </tr>\n",
    "<tr><td align=\"center\">   Andre              </td> <td align=\"center\">   < 1                    </td> <td align=\"center\">   65                    </td> </tr>\n",
    "</tbody>\n",
    "</table>\n",
    "\n",
    "**a)**\n",
    "Hvilke to typer gradienter driver diffusjon gjennom cellemebranen?"
   ]
  },
  {
   "cell_type": "markdown",
   "metadata": {},
   "source": [
    "        Svar:\n"
   ]
  },
  {
   "cell_type": "markdown",
   "metadata": {},
   "source": [
    "\n",
    "Nernst-likningen gir oss likevektspotensialet $E_x$ for én bestemt ionetype $x$."
   ]
  },
  {
   "cell_type": "markdown",
   "metadata": {},
   "source": [
    "<!-- Equation labels as ordinary links -->\n",
    "<div id=\"eq:nernst\"></div>\n",
    "\n",
    "$$\n",
    "\\begin{equation} \\label{eq:nernst} \\tag{1}\n",
    "E_x = \\frac{\\mathrm{C}}{z}\\log_{10}\\frac{[x]_{ute}}{[x]_{inne}},\n",
    "\\end{equation}\n",
    "$$"
   ]
  },
  {
   "cell_type": "markdown",
   "metadata": {},
   "source": [
    "der\n",
    "* $\\mathrm{C} = 61$mV er en konstant\n",
    "\n",
    "* $z$ er ionets ladning (valens)\n",
    "\n",
    "* $[x]_{ute}$ er konsentrasjonen av ionetype $x$ utenfor cella (mM)\n",
    "\n",
    "* $[x]_{inne}$ er konsentrasjonen av ionetype $x$ inni cella (mM)\n",
    "\n",
    "**b)**\n",
    "Hva slags fysisk enhet har likevektspotensialet $E_x$\n",
    "\n",
    "\n",
    "\n",
    "**c)**\n",
    "Skriv Nernst-likningen som en python-funksjon med navn `nernst`, og følgende input\n",
    "`z, x_out, x_in` som returnerer membranpotensialet, bruk `log10` for $\\log_{10}$:"
   ]
  },
  {
   "cell_type": "code",
   "execution_count": null,
   "metadata": {},
   "outputs": [],
   "source": []
  },
  {
   "cell_type": "markdown",
   "metadata": {},
   "source": [
    "\n",
    "**d)**\n",
    "Hva er likevektspotensialet til kalium? Bruk tabellen og python-funksjonen over\n",
    "til å regne det ut. Print svaret, med forklaring."
   ]
  },
  {
   "cell_type": "code",
   "execution_count": null,
   "metadata": {},
   "outputs": [],
   "source": []
  },
  {
   "cell_type": "markdown",
   "metadata": {},
   "source": [
    "\n",
    "**e)**\n",
    "Vil likevektspotensialet til natrium være positivt eller negativt?\n",
    "Hva med likevektspotensialet til klorid? Forklar hva du forventer uten å først\n",
    "beregne verdiene."
   ]
  },
  {
   "cell_type": "markdown",
   "metadata": {},
   "source": []
  },
  {
   "cell_type": "markdown",
   "metadata": {},
   "source": [
    "\n",
    "**f)**\n",
    "Bruk python-funksjonen til å regne ut likevektspotensialet til natrium og klorid.\n",
    "Stemmer disse overens med konklusjonen i forrige deloppgave?\n",
    "Hvis ikke, finn ut hva dere har gjort feil og korriger svaret.\n",
    "\n"
   ]
  },
  {
   "cell_type": "code",
   "execution_count": null,
   "metadata": {},
   "outputs": [],
   "source": []
  },
  {
   "cell_type": "markdown",
   "metadata": {},
   "source": [
    "\n",
    "<!-- --- end exercise --- -->\n",
    "\n",
    "\n",
    "\n",
    "\n",
    "<!-- --- begin exercise --- -->\n",
    "\n",
    "## Oppgave 3: Hvilepotensial\n",
    "\n",
    "\n",
    "**a)**\n",
    "Hva er forskjellen på likevektspotensial og hvilepotensial?"
   ]
  },
  {
   "cell_type": "markdown",
   "metadata": {},
   "source": [
    "        Svar:"
   ]
  },
  {
   "cell_type": "markdown",
   "metadata": {},
   "source": [
    "\n",
    "Når vi skal regne ut hvilepotensialet til en celle, trenger vi en likning som\n",
    "likner veldig på Nernst-likningen, men som er noe mer komplisert. Denne heter\n",
    "Goldman-Hodgkin-Katz, og ser slik ut:"
   ]
  },
  {
   "cell_type": "markdown",
   "metadata": {},
   "source": [
    "$$\n",
    "E_m = \\mathrm{C} \\log_{10}{\\frac{P_{Na+}[Na+]_{ute} + P_{K+}[K+]_{ute} + P_{Cl-}[Cl-]_{inne}}{P_{Na+}[Na+]_{inne} + P_{K+}[K+]_{inne} + P_{Cl-}[Cl-]_{ute}}}\n",
    "$$"
   ]
  },
  {
   "cell_type": "markdown",
   "metadata": {},
   "source": [
    "Her er $P_{x}$ cellemembranens permeabilitet for ionetype $x$. Det vil si hvor lett\n",
    "det er for ion $x$ å slippe gjennom membranen når kun passive lekkasjekanaler,\n",
    "og ingen aktive kanaler, er åpne. En nervecelle har vanligvis følgende\n",
    "permeabiliteter: $P_{Na} = 1$, $P_{Cl} = 9$ og $P_{K} = 20$.\n",
    "\n",
    "**b)**\n",
    "Hvilken ionetype er bidrar mest til å sette opp hvilemembranpotensialet?"
   ]
  },
  {
   "cell_type": "markdown",
   "metadata": {},
   "source": [
    "    Svar:"
   ]
  },
  {
   "cell_type": "markdown",
   "metadata": {},
   "source": [
    "\n",
    "Kodecellen under gir oss Goldman-Hodgkin-Katz-likningen som en python-funksjon."
   ]
  },
  {
   "cell_type": "code",
   "execution_count": 27,
   "metadata": {},
   "outputs": [
    {
     "name": "stdout",
     "output_type": "stream",
     "text": [
      "0.0\n"
     ]
    }
   ],
   "source": [
    "from pylab import *\n",
    "\n",
    "\n",
    "def ghk(p_Na, p_K, p_Cl,\n",
    "        c_out_Na, c_out_K, c_out_Cl,\n",
    "        c_in_Na, c_in_K, c_in_Cl):\n",
    "    teller = p_Na * c_out_Na + p_K * c_out_K + p_Cl * c_in_Cl\n",
    "    nevner = p_Na * c_in_Na + p_K * c_in_K + p_Cl * c_out_Cl\n",
    "    E_m = 60 * log10(teller / nevner)\n",
    "    return E_m\n",
    "\n",
    "k_out = 1\n",
    "k_in = 1\n",
    "na_out = 1\n",
    "na_in = 1\n",
    "cl_out = 1\n",
    "cl_in = 1\n",
    "\n",
    "print(ghk(1, 20, 9, na_out, k_out, cl_out, na_in, k_in, cl_in))"
   ]
  },
  {
   "cell_type": "markdown",
   "metadata": {},
   "source": [
    "**c)**\n",
    "Hva er hvilepotensialet for en nervecelle med konsentrasjoner som gitt i\n",
    "tabellen over, og følgende permeabiliteter: $P_{Na+} = 1$, $P_{K+} = 20$, $P_{Cl-} = 9$?"
   ]
  },
  {
   "cell_type": "markdown",
   "metadata": {},
   "source": [
    "        Svar:\n"
   ]
  },
  {
   "cell_type": "markdown",
   "metadata": {},
   "source": [
    "\n",
    "\n",
    "<div class=\"alert alert-block alert-info\">\n",
    "Kjør kodecellen under og bruk sliderne til å svare på deloppgavene under."
   ]
  },
  {
   "cell_type": "code",
   "execution_count": 7,
   "metadata": {},
   "outputs": [
    {
     "data": {
      "application/vnd.jupyter.widget-view+json": {
       "model_id": "d769bad368e04acd8ed1eb073c8da35c",
       "version_major": 2,
       "version_minor": 0
      },
      "text/plain": [
       "interactive(children=(IntSlider(value=1, description='p_Na', max=30), IntSlider(value=20, description='p_K', m…"
      ]
     },
     "metadata": {},
     "output_type": "display_data"
    }
   ],
   "source": [
    "from pylab import *\n",
    "from ipywidgets import widgets, fixed\n",
    "\n",
    "slider = widgets.interact(\n",
    "    ghk,\n",
    "    p_Na=widgets.IntSlider(min=0, max=30., step=1., value=1.),\n",
    "    p_K=widgets.IntSlider(min=0., max=30., step=1., value=20.),\n",
    "    p_Cl=widgets.IntSlider(min=0., max=30., step=1., value=9.),\n",
    "    c_out_Na=widgets.IntSlider(min=0., max=160., step=1., value=1.),\n",
    "    c_out_K=widgets.IntSlider(min=0., max=160., step=1., value=1.),\n",
    "    c_out_Cl=widgets.IntSlider(min=0., max=160., step=1., value=1.),\n",
    "    c_in_Na=widgets.IntSlider(min=0., max=160., step=1., value=1.),\n",
    "    c_in_K=widgets.IntSlider(min=0., max=160., step=1., value=1.),\n",
    "    c_in_Cl=widgets.IntSlider(min=0., max=160., step=1., value=1.)\n",
    ")"
   ]
  },
  {
   "cell_type": "markdown",
   "metadata": {},
   "source": [
    "**d)**\n",
    "Valium øker permeabiliteten for klorid. Hva skjer med cellens evne til å fyre\n",
    "et aksjonspotensial hvis du inntar valium?"
   ]
  },
  {
   "cell_type": "markdown",
   "metadata": {},
   "source": [
    "        Svar:\n"
   ]
  },
  {
   "cell_type": "markdown",
   "metadata": {},
   "source": [
    "\n",
    "<!-- !bsubex -->\n",
    "<!-- Tetrodotoxin er en nervegift man finner blant annet i noen arter av kulefisk. -->\n",
    "<!-- Den virker ved å blokkere natrium-kanaler. Hva skjer med hvilepotensialet, under påvirkning -->\n",
    "<!-- av Tetrodotoxin? -->\n",
    "<!--  -->\n",
    "<!-- !bc -->\n",
    "<!-- Svar: -->\n",
    "<!-- !ec -->\n",
    "<!--  -->\n",
    "<!-- !bsol -->\n",
    "<!-- !bc pycod -->\n",
    "<!-- p_Na = 0 -->\n",
    "<!-- p_K = 20 -->\n",
    "<!-- p_Cl = 9 -->\n",
    "<!-- E_m = ghk(p_Na, p_K, p_Cl, -->\n",
    "<!-- c_out_Na, c_out_K, c_out_Cl, -->\n",
    "<!-- c_in_Na, c_in_K, c_in_Cl) -->\n",
    "<!-- print('Hvilepotensialet er %d mV' % E_m) -->\n",
    "<!-- !ec -->\n",
    "<!-- !esol -->\n",
    "<!-- !esubex -->\n",
    "\n",
    "**e)**\n",
    "Ved dødsstraff i USA har en dødelig injeksjon av kalium vært brukt.\n",
    "Hva skjer med hvilepotensialet dersom konsentrasjonen av ekstracellulært kalium økes til $7$mM?\n",
    "Hva skjer hvis vi fortsetter å øke den ekstracellulære konsentrasjonen av kalium?"
   ]
  },
  {
   "cell_type": "markdown",
   "metadata": {},
   "source": [
    "    Svar:\n",
    "\n"
   ]
  },
  {
   "cell_type": "markdown",
   "metadata": {},
   "source": [
    "\n",
    "<!-- --- end exercise --- -->"
   ]
  }
 ],
 "metadata": {
  "kernelspec": {
   "display_name": "Python 3",
   "language": "python",
   "name": "python3"
  },
  "language_info": {
   "codemirror_mode": {
    "name": "ipython",
    "version": 3
   },
   "file_extension": ".py",
   "mimetype": "text/x-python",
   "name": "python",
   "nbconvert_exporter": "python",
   "pygments_lexer": "ipython3",
   "version": "3.6.3"
  }
 },
 "nbformat": 4,
 "nbformat_minor": 2
}
