{
 "cells": [
  {
   "cell_type": "markdown",
   "metadata": {},
   "source": [
    "<!-- dom:TITLE: Beregningsoppgave 4: Motstrømsprinsippet -->\n",
    "# Beregningsoppgave 4: Motstrømsprinsippet\n",
    "<!-- AUTHOR: Solveig Næss, Mikkel Lepperød -->\n",
    "\n",
    "<!-- DATE: today -->\n",
    "\n",
    "<!-- TOC: on -->"
   ]
  },
  {
   "cell_type": "markdown",
   "metadata": {},
   "source": [
    "\n"
   ]
  },
  {
   "cell_type": "markdown",
   "metadata": {},
   "source": [
    "<div class=\"alert alert-block alert-info\">\n",
    "Denne beregningsoppgaven skal leveres i grupper på to.\n",
    "\n",
    "**MERK:** Jobb på samme fil, men lever hver for dere i CANVAS. Pass på at filen\n",
    "heter det samme så vi slipper å rette samme oppgave to ganger.\n",
    "\n",
    "Start med å lage en kopi av denne fila: Trykk på File; Make a copy.\n",
    "\n",
    "Endre deretter navnet på kopien til: EtternavnFornavn_EtternavnFornavn_beregning4.ipynb. \n",
    "Dersom dere heter Harry Potter og Isaac Newton, skal filnavnet altså være: PotterHarry_NewtonIsaac_beregning4.ipynb\n",
    "\n",
    "Denne fila skal leveres på CANVAS under Beregning4: Motstrømsprinsippet.\n",
    "Leveringsfristen er fredag 29.03, klokka 23.59.\n",
    "\n",
    "For å få innleveringen godkjent må dere svare på alle oppgavene."
   ]
  },
  {
   "cell_type": "markdown",
   "metadata": {},
   "source": [
    "\n"
   ]
  },
  {
   "cell_type": "markdown",
   "metadata": {},
   "source": [
    "**Etter at dere har gjort denne oppgaven skal dere kunne forklare**\n",
    "* hva diffusjon er med en matematisk beskrivelse,\n",
    "\n",
    "* hvordan motstrømsprinsippet blir utnyttet i fiskenes gjeller.\n",
    "\n",
    "\n",
    "\n",
    "\n",
    "\n",
    "<!-- --- begin exercise --- -->\n",
    "\n",
    "## Exercise 1: Diffusjon og oksygenoverføring i gjeller\n",
    "<div id=\"ex:diff\"></div>\n",
    "\n",
    "Fiskenes gjeller kan grovt deles inn i en gjellebue, som har flere gjelleblader.\n",
    "Det er i disse gjellebladene at motstrømsprinsippet forekommer.\n",
    "Vannet strømmer over disse gjellebladene fra munnhulen bakover og ut i vannet.\n",
    "Blodet strømmer framover inne gjellebladene.\n",
    "\n",
    "Dette medfører at blodet kontinuerlig strømmer mot vann med stadig høyere konsentrasjon av oksygen.\n",
    "Når blodet først møter vannet, har blodet lav konsentrasjon av oksygen (rundt 5 %).\n",
    "Dette blodet møter vann som allerede har gitt fra seg oksygen tidligere på ferden over gjellebladet.\n",
    "Etterhvert som blodet beveger seg videre, vil konsentrasjonen av oksygen gradvis øke.\n",
    "Samtidig som konsentrasjonen av oksygen i blodet øker,\n",
    "møter blodet vann med stigende oksygenkonsentrasjon,\n",
    "da dette vannet ikke har gitt fra seg så mye oksygen tidligere.\n",
    "\n",
    "Når blodet vender tilbake til kroppen,\n",
    "antas det å ha en konsentrasjon av oksygen på 90 %,\n",
    "regnet i forhold til vannets konsentrasjon.\n",
    "Ettersom opptak av oksygen i gjellene skjer ved diffusjon,\n",
    "vil den konstante konsentrasjonsforskjellen føre til et mer effektivt opptak av oksygen.\n",
    "\n",
    "<!-- dom:FIGURE: [biology.png, width=500 frac=0.8] <div id=\"fig:biology\"></div> -->\n",
    "<!-- begin figure -->\n",
    "<div id=\"fig:biology\"></div>\n",
    "\n",
    "<p></p>\n",
    "<img src=\"biology.png\" width=500>\n",
    "\n",
    "<!-- end figure -->\n",
    "\n",
    "\n",
    "\n",
    "<!-- Utveksling av gasser i fiskegjeller er effektivt på grunn av: -->\n",
    "<!--  -->\n",
    "<!-- * the large surface area of the gills -->\n",
    "<!-- * the large surface area of the blood capillaries in each gill filament -->\n",
    "<!-- * the short distance required for diffusion – the outer layer of the gill filaments and the capillary walls are just one cell thick -->\n",
    "<!-- * the efficient ventilation of the gills with water - there is a counter current flow of water and blood -->\n",
    "<!-- * The moving blood and ventilated gill surfaces mean that gases exchanged are -->\n",
    "<!-- continually removed – oxygen enters the blood, and carbon dioxide removed to the water. High * * concentration gradients can be maintained. -->\n",
    "\n",
    "For å forstå hvordan motstrømsprinsippet fungerer vil vi sammenligne to tilfeller\n",
    "hvor vann og blod flyter på hver sin side av en membran, først i samme retning\n",
    "(medstrøm) og så i hver sin retning (motstrøm). Disse to tilfellene kvantifiseres\n",
    "ved å se hvordan konsentrasjonsforskjellen endrer seg med lengde.\n",
    "\n",
    "Overføringen av oksygen skjer på grunn av diffusjon, som er beskrevet av Fick's\n",
    "lov som er gitt av"
   ]
  },
  {
   "cell_type": "markdown",
   "metadata": {},
   "source": [
    "<!-- Equation labels as ordinary links -->\n",
    "<div id=\"eq:fick\"></div>\n",
    "\n",
    "$$\n",
    "\\begin{equation} \\label{eq:fick} \\tag{1}\n",
    "J = D \\frac{c_v - c_b}{dy}\n",
    "\\end{equation}\n",
    "$$"
   ]
  },
  {
   "cell_type": "markdown",
   "metadata": {},
   "source": [
    "Diffusjon betyr spredning og kommer av det latinske verbet «diffundere» som\n",
    "betyr «utbre» eller «spre», og brukes om det at noe sprer seg.\n",
    "\n",
    "J er diffusions-fluksen, med dimensjon mol per enhet areal per enhet tid, $mol/(m^2 s)$.\n",
    "J måler mengden mol som vil flyte gjennom en enhet areal i løpet av en enhets tidsintervall.\n",
    "\n",
    "$\\Delta c = c_v - c_b$ er konsentrasjonsforskjellen av oksygen mellom vann og blod.\n",
    "Dimensjonen er $mol/m^3$.\n",
    "\n",
    "D kalles diffusions-koeffisienten eller diffusiviteten. Dimensjonen er i $m^2/s$.\n",
    "\n",
    "dy er tykkelsen på membranen i $m$.\n",
    "\n",
    "\n",
    "<!-- La oss si at på insiden av gjellene (i blodet) finnes det ingen oksygen, -->\n",
    "<!-- fisken lever i 100% mettet vann med konsentrasjonen $c = 0.282 mmol / L$ -->\n",
    "\n",
    "<!-- dom:FIGURE: [medstrøm.png, width=500 frac=0.8] <div id=\"fig:medstrøm\"></div> -->\n",
    "<!-- begin figure -->\n",
    "<div id=\"fig:medstrøm\"></div>\n",
    "\n",
    "<p></p>\n",
    "<img src=\"medstrøm.png\" width=500>\n",
    "\n",
    "<!-- end figure -->\n",
    "\n",
    "\n",
    "$q_b$ er blodets volumstrøm (blodstrøm eller flow), $q_v$ er vannets volumstrøm\n",
    "(vannstrøm eller flow) og måles i kubikkmeter per sekund ($m^3/s$).\n",
    "\n",
    "Videre kan vi skrive massestrøm som $\\dot{m} = qc$ det vil si volumstrøm ganget\n",
    "med konsentrasjon av oksygen,\n",
    "hvis vi ser på enhetene gir dette mening, volumstrøm er gitt som $m^3/s$ og konsentrasjon\n",
    "er gitt ved $mol / m^3$ og vi får da $mol / s$.\n",
    "Prikken over $\\dot{m}$ sier oss at massen er tidsavhengig.\n",
    "Man kan tenke på massestrøm på samme måte som hastighet - istedet for hvor mye\n",
    "lengde noe har flyttet seg per tid, så tenker vi på det som hvor mye masse som\n",
    "har flyttet seg per tid.\n",
    "\n",
    "Mengden masse som strømmer ved $x$ blir da massestrømmen som funksjon av $x$:\n",
    "$\\dot{m}(x) = qc(x)$ - altså volumstrøm ganget med konsentrasjonen ved $x$.\n",
    "**Legg merge til at volumstrømmen her er positiv, siden den flyter mot høyre**.\n",
    "Endring i massestrøm kan skrives som"
   ]
  },
  {
   "cell_type": "markdown",
   "metadata": {},
   "source": [
    "<!-- Equation labels as ordinary links -->\n",
    "<div id=\"eq:mass\"></div>\n",
    "\n",
    "$$\n",
    "\\begin{equation} \\label{eq:mass} \\tag{2}\n",
    "\\Delta \\dot{m}_v = q_vc_v(x) - q_vc_v(x + dx)\\;\\text{(vann)}\\\\\n",
    "\\Delta \\dot{m}_b = q_bc_b(x) - q_bc_b(x + dx)\\;\\text{(blod)}\n",
    "\\end{equation}\n",
    "$$"
   ]
  },
  {
   "cell_type": "markdown",
   "metadata": {},
   "source": [
    "Siden masse hverken forsvinner eller blir laget, kan vi anta at massen er konservert.\n",
    "Mengden oksygen (masse) som kommer inn ved $x$ må dermed være lik mengden oksygen som forlater ved $x + dx$\n",
    "minus oksygenet som diffunderer over membranen fra vann til blod.\n",
    "\n",
    "Diffusjonen beskriver hvor mye oksygen som går over membranen per areal per tid,\n",
    "for å sammenligne diffusjon med endring i massestrøm mellom to punkter ($x$ og $x + dx$) må\n",
    "vi finne mengden som har diffundert.\n",
    "Dette kan vi finne med å gange diffusjons-fluksen med areal $J dA$,\n",
    "hvor $dA = dxdz$ er arealet. Husk at $J$ er mengde pr areal pr tid, slik at\n",
    "$J dA$ er mengde pr tid.\n",
    "\n",
    "Dette vil si at endringen i massestrøm forårsaket av diffusjon på vannsiden må\n",
    "tilfredstille $\\Delta \\dot{m} = JdA$.\n",
    "Vi har en lingning for både $\\Delta \\dot{m}$ og $J$, ved å sette disse sammen\n",
    "og dele massestrømmen på $dA$ får vi på vannsiden"
   ]
  },
  {
   "cell_type": "markdown",
   "metadata": {},
   "source": [
    "$$\n",
    "\\begin{align*}\n",
    "\\Delta \\dot{m}_v &= JdA\\\\\n",
    "q_v\\left(c_v(x) - c_v(x + dx)\\right) &= \\frac{DdA}{dy}\\left(c_v(x) - c_b(x)\\right)\n",
    "\\end{align*}\n",
    "$$"
   ]
  },
  {
   "cell_type": "markdown",
   "metadata": {},
   "source": [
    "For å kunne regne på dette i datamaskinen, ønsker vi å se på dette som en\n",
    "differense likning. Hvis vi vet hva som skjer ved $x$ så kan vi regne ut\n",
    "hva som skjer ved $x + dx$.\n",
    "**Målet vårt er å finne** $\\Delta c(x + dx)$ **altså** $c_v(x + dx) - c_b(x + dx)$\n",
    "**, konsentrasjonsforskjellen mellom blod og vann ved** $x + dx$.\n",
    "Vi ønsker derfor å flytte alt som har $x + dx$ på venstre side av\n",
    "ligningen og $x$ på høyre side."
   ]
  },
  {
   "cell_type": "markdown",
   "metadata": {},
   "source": [
    "<!-- Equation labels as ordinary links -->\n",
    "<div id=\"eq:conservation_v\"></div>\n",
    "\n",
    "$$\n",
    "\\begin{equation} \\label{eq:conservation_v} \\tag{3}\n",
    "c_v(x + dx) = - D \\frac{dA}{dy}\\frac{1}{q_v} (c_v(x) - c_b(x)) + c_v(x)\n",
    "\\end{equation}\n",
    "$$"
   ]
  },
  {
   "cell_type": "markdown",
   "metadata": {},
   "source": [
    "Lignende på blodsiden, bare her blir det tilført oksygen slik at vi må tilføre\n",
    "et minustegn før $J$, med andre ord $\\Delta \\dot{m}_b + JdA = 0$"
   ]
  },
  {
   "cell_type": "markdown",
   "metadata": {},
   "source": [
    "$$\n",
    "\\begin{align*}\n",
    "\\Delta \\dot{m}_b &= -JdA\\\\\n",
    "q_b\\left(c_b(x) - c_b(x + dx)\\right) &= - \\frac{DdA}{dy}\\left(c_v(x) - c_b(x)\\right)\n",
    "\\end{align*}\n",
    "$$"
   ]
  },
  {
   "cell_type": "markdown",
   "metadata": {},
   "source": [
    "<!-- Equation labels as ordinary links -->\n",
    "<div id=\"eq:conservation_b\"></div>\n",
    "\n",
    "$$\n",
    "\\begin{equation} \\label{eq:conservation_b} \\tag{4}\n",
    "c_b(x + dx) = D \\frac{dA}{dy}\\frac{1}{q_b} (c_v(x) - c_b(x)) + c_b(x)\n",
    "\\end{equation}\n",
    "$$"
   ]
  },
  {
   "cell_type": "markdown",
   "metadata": {},
   "source": [
    "For å finne $\\Delta c(x + dx)$ trekker vi fra blodsiden ([4](#eq:conservation_b))\n",
    "fra vannsiden ([3](#eq:conservation_v))"
   ]
  },
  {
   "cell_type": "markdown",
   "metadata": {},
   "source": [
    "$$\n",
    "\\begin{align*}\n",
    "c_v(x + dx) - c_b(x + dx) =\n",
    "- D \\frac{dA}{dy}\\frac{1}{q_v} \\left(c_v(x) - c_b(x)\\right) + c_v(x)\n",
    "- \\left(D \\frac{dA}{dy}\\frac{1}{q_b} \\left(c_v(x) - c_b(x)\\right) + c_b(x)\\right)\n",
    "\\end{align*}\n",
    "$$"
   ]
  },
  {
   "cell_type": "markdown",
   "metadata": {},
   "source": [
    "Vi løser ut den store parantesen til høyre ($c_b$ blir negativ) og flytter $c_v$\n",
    "mot høyre. For å forenkle notasjonen husker vi at $\\Delta c(x) = c_v(x) - c_b(x)$\n",
    "og får dermed"
   ]
  },
  {
   "cell_type": "markdown",
   "metadata": {},
   "source": [
    "$$\n",
    "\\begin{align*}\n",
    "\\Delta c(x + dx) = - D\\frac{dA}{dy}\\frac{1}{q_v} \\Delta c(x) - D\\frac{dA}{dy}\\frac{1}{q_b} \\Delta c(x) + \\Delta c(x)\n",
    "\\end{align*}\n",
    "$$"
   ]
  },
  {
   "cell_type": "markdown",
   "metadata": {},
   "source": [
    "<!-- Equation labels as ordinary links -->\n",
    "<div id=\"eq:final\"></div>\n",
    "\n",
    "$$\n",
    "\\begin{equation} \\label{eq:final} \\tag{5}\n",
    "\\Delta c(x + dx) = \\Delta c(x)\\left(1 - D\\frac{dA}{dy} \\left(\\frac{1}{q_v} + \\frac{1}{q_b}\\right)\\right)\n",
    "\\end{equation}\n",
    "$$"
   ]
  },
  {
   "cell_type": "markdown",
   "metadata": {},
   "source": [
    "**a)**\n",
    "Regn ut $\\Delta c$ for medstrøm for verdier av $x$.\n",
    "Plot resultatet med x på x-aksen og $\\Delta c$ på y-aksen."
   ]
  },
  {
   "cell_type": "code",
   "execution_count": 4,
   "metadata": {},
   "outputs": [],
   "source": [
    "from pylab import *\n",
    "%matplotlib inline\n",
    "\n",
    "delta_c = [1] # forskjellen i konsentrasjon ved første punkt hvor blod møter vann\n",
    "x = [0] # x verdi for første punkt\n",
    "dx = .01 # avstand til neste x punkt\n",
    "dy = 1 # tykkelsen på membranen\n",
    "dz = 1 # bredden på arealet\n",
    "q_b = 10 # volumstrøm til blod\n",
    "q_v = 10 # volumstrøm til vann\n",
    "dA = dx * dz\n",
    "D = 1 # diffusiviteten\n",
    "\n",
    "# kode her"
   ]
  },
  {
   "cell_type": "code",
   "execution_count": 8,
   "metadata": {},
   "outputs": [
    {
     "name": "stdout",
     "output_type": "stream",
     "text": [
      "[1, 0.998, 0.996004, 0.994011992, 0.992023968016, 0.990039920079968, 0.9880598402398081, 0.9860837205593285, 0.9841115531182099, 0.9821433300119734, 0.9801790433519495, 0.998, 0.996004, 0.994011992, 0.992023968016, 0.990039920079968, 0.9880598402398081, 0.9860837205593285, 0.9841115531182099, 0.9821433300119734, 0.9801790433519495]\n"
     ]
    }
   ],
   "source": [
    "for x in range(10):\n",
    "    delta_c_xdx = delta_c[i]*(1-D*(dA/dy)*(1/q_v+1/q_b))\n",
    "    delta_c.append(delta_c_xdx)\n",
    "print(delta_c)\n",
    "\n",
    "plot()"
   ]
  },
  {
   "cell_type": "markdown",
   "metadata": {},
   "source": [
    "\n",
    "**b)**\n",
    "Regn ut $\\Delta c$ for motstrøm for verdier av $x$.\n",
    "Plot resultatet med x på x-aksen og $\\Delta c$ på y-aksen."
   ]
  },
  {
   "cell_type": "code",
   "execution_count": null,
   "metadata": {},
   "outputs": [],
   "source": [
    "from pylab import *\n",
    "%matplotlib inline\n",
    "\n",
    "# kode her"
   ]
  },
  {
   "cell_type": "markdown",
   "metadata": {},
   "source": [
    "\n",
    "**c)**\n",
    "Forklar med resultatene dere har oppnådd hvorfor motstrøm er mer effektivt enn\n",
    "medstrøm i å overføre oksygen fra vann til blod i fiskens gjeller.\n",
    "\n",
    "<!-- --- end exercise --- -->"
   ]
  }
 ],
 "metadata": {
  "kernelspec": {
   "display_name": "Python 3",
   "language": "python",
   "name": "python3"
  },
  "language_info": {
   "codemirror_mode": {
    "name": "ipython",
    "version": 3
   },
   "file_extension": ".py",
   "mimetype": "text/x-python",
   "name": "python",
   "nbconvert_exporter": "python",
   "pygments_lexer": "ipython3",
   "version": "3.6.7"
  }
 },
 "nbformat": 4,
 "nbformat_minor": 2
}
